{
  "nbformat": 4,
  "nbformat_minor": 0,
  "metadata": {
    "colab": {
      "provenance": []
    },
    "kernelspec": {
      "name": "python3",
      "display_name": "Python 3"
    },
    "language_info": {
      "name": "python"
    }
  },
  "cells": [
    {
      "cell_type": "markdown",
      "source": [
        "# Cancer prediction with machine learning\n",
        "The collection of data is part of the RNA-seq PANCAN data set, it is a random extraction of gene expressions of patients having different types of tumor: Breast Cancer (BRCA), Kidney renal clear cell carcinoma (KIRC), Colon adenocarcinoma (COAD), Lung adenocarcinoma (LUAD) and Prostate Adenocarcinoma (PRAD).\n",
        "Source: https://archive.ics.uci.edu/ml/datasets/gene+expression+cancer+RNA-Seq"
      ],
      "metadata": {
        "id": "5A1K2wzy0mkp"
      }
    },
    {
      "cell_type": "markdown",
      "source": [
        "## Import Libraries"
      ],
      "metadata": {
        "id": "7lDmwzg41Ybh"
      }
    },
    {
      "cell_type": "code",
      "source": [
        "pip install --upgrade scikit-learn"
      ],
      "metadata": {
        "id": "-zLWwGk618kZ"
      },
      "execution_count": null,
      "outputs": []
    },
    {
      "cell_type": "code",
      "execution_count": 5,
      "metadata": {
        "id": "7ZH192Vg0jLd"
      },
      "outputs": [],
      "source": [
        "#data handling\n",
        "import pandas as pd\n",
        "import numpy as np\n",
        "\n",
        "#data visualization\n",
        "import matplotlib.pyplot as plt\n",
        "import seaborn as sns\n",
        "\n",
        "#preprocessing\n",
        "from sklearn.model_selection import train_test_split\n",
        "from sklearn.preprocessing import LabelEncoder\n",
        "from sklearn.preprocessing import label_binarize\n",
        "from sklearn.preprocessing import MinMaxScaler\n",
        "\n",
        "#feature selection\n",
        "from sklearn.feature_selection import mutual_info_classif\n",
        "\n",
        "#classification\n",
        "from sklearn.multiclass import OneVsRestClassifier\n",
        "from sklearn.ensemble import RandomForestClassifier\n",
        "\n",
        "# performance metrics\n",
        "from sklearn.metrics import balanced_accuracy_score,f1_score,precision_score, recall_score\n",
        "from sklearn.metrics import classification_report\n",
        "from sklearn.metrics import confusion_matrix\n",
        "from sklearn.metrics import roc_curve,auc\n",
        "from sklearn.metrics import roc_auc_score"
      ]
    },
    {
      "cell_type": "markdown",
      "source": [
        "## Import data"
      ],
      "metadata": {
        "id": "h4HBkg0p2s_t"
      }
    },
    {
      "cell_type": "code",
      "source": [
        "data = pd.read_csv(\"cancer_gene_expression.zip\")"
      ],
      "metadata": {
        "id": "bnGwMleE2wfU"
      },
      "execution_count": 6,
      "outputs": []
    },
    {
      "cell_type": "markdown",
      "source": [
        "## Explore data and clean data"
      ],
      "metadata": {
        "id": "YLY6MECL4meF"
      }
    },
    {
      "cell_type": "code",
      "source": [
        "print(data.shape)"
      ],
      "metadata": {
        "colab": {
          "base_uri": "https://localhost:8080/"
        },
        "id": "t-QWIfbH4qlA",
        "outputId": "3a7ee5c0-bc57-45b8-9cab-7a3bb394b710"
      },
      "execution_count": 7,
      "outputs": [
        {
          "output_type": "stream",
          "name": "stdout",
          "text": [
            "(801, 8001)\n"
          ]
        }
      ]
    },
    {
      "cell_type": "code",
      "source": [
        "print(data.columns[0:5])"
      ],
      "metadata": {
        "colab": {
          "base_uri": "https://localhost:8080/"
        },
        "id": "jlxxGfLi468V",
        "outputId": "21b141de-3dcf-42cf-d844-d8c85af53032"
      },
      "execution_count": 9,
      "outputs": [
        {
          "output_type": "stream",
          "name": "stdout",
          "text": [
            "Index(['gene_1', 'gene_2', 'gene_3', 'gene_4', 'gene_5'], dtype='object')\n"
          ]
        }
      ]
    },
    {
      "cell_type": "code",
      "source": [
        "#last column is cancer type\n",
        "print(data.columns[-1])"
      ],
      "metadata": {
        "colab": {
          "base_uri": "https://localhost:8080/"
        },
        "id": "HLe_XepI5Mil",
        "outputId": "e782c7ec-5994-402c-8a7b-b5ef137e50ed"
      },
      "execution_count": 13,
      "outputs": [
        {
          "output_type": "stream",
          "name": "stdout",
          "text": [
            "Cancer_Type\n"
          ]
        }
      ]
    },
    {
      "cell_type": "code",
      "source": [
        "#check for missing values\n",
        "datanul=data.isnull().sum()\n",
        "g=[i for i in datanul if i>0]\n",
        "\n",
        "print('columns with missing values:%d'%len(g))"
      ],
      "metadata": {
        "colab": {
          "base_uri": "https://localhost:8080/"
        },
        "id": "r4Cg7Qtc5daP",
        "outputId": "226fb176-c279-4fe8-da00-281bc6acf3e6"
      },
      "execution_count": 14,
      "outputs": [
        {
          "output_type": "stream",
          "name": "stdout",
          "text": [
            "columns with missing values:0\n"
          ]
        }
      ]
    },
    {
      "cell_type": "code",
      "source": [
        "print(data['Cancer_Type'].value_counts())"
      ],
      "metadata": {
        "colab": {
          "base_uri": "https://localhost:8080/"
        },
        "id": "lU1IiSAX5zR8",
        "outputId": "bc2fe0a1-b39a-4121-962c-f09d6d54634c"
      },
      "execution_count": 15,
      "outputs": [
        {
          "output_type": "stream",
          "name": "stdout",
          "text": [
            "BRCA    300\n",
            "KIRC    146\n",
            "LUAD    141\n",
            "PRAD    136\n",
            "COAD     78\n",
            "Name: Cancer_Type, dtype: int64\n"
          ]
        }
      ]
    },
    {
      "cell_type": "code",
      "source": [
        "print(data['Cancer_Type'].value_counts().plot.bar())"
      ],
      "metadata": {
        "colab": {
          "base_uri": "https://localhost:8080/",
          "height": 473
        },
        "id": "t3cJj_cb6Ash",
        "outputId": "12f56554-0eae-4057-85ab-94bc344cac8e"
      },
      "execution_count": 16,
      "outputs": [
        {
          "output_type": "stream",
          "name": "stdout",
          "text": [
            "Axes(0.125,0.11;0.775x0.77)\n"
          ]
        },
        {
          "output_type": "display_data",
          "data": {
            "text/plain": [
              "<Figure size 640x480 with 1 Axes>"
            ],
            "image/png": "[encoded data removed]"
          },
          "metadata": {}
        }
      ]
    },
    {
      "cell_type": "markdown",
      "source": [
        "## Data preprocessing"
      ],
      "metadata": {
        "id": "SFKyZ99964M8"
      }
    },
    {
      "cell_type": "code",
      "source": [
        "X = data.drop([\"Cancer_Type\"], axis=1)\n",
        "y = data[\"Cancer_Type\"]"
      ],
      "metadata": {
        "id": "zv0rMT8r67DA"
      },
      "execution_count": 17,
      "outputs": []
    },
    {
      "cell_type": "code",
      "source": [
        "#encode y values with values between 0 and n_classes-1\n",
        "label_encoder=LabelEncoder()\n",
        "label_encoder.fit(y)\n",
        "y_encoded=label_encoder.transform(y)\n",
        "labels=label_encoder.classes_\n",
        "classes=np.unique(y_encoded)"
      ],
      "metadata": {
        "id": "3kw6ICwC7g-A"
      },
      "execution_count": 18,
      "outputs": []
    },
    {
      "cell_type": "code",
      "source": [
        "labels"
      ],
      "metadata": {
        "colab": {
          "base_uri": "https://localhost:8080/"
        },
        "id": "CQ7pfEjd7vQD",
        "outputId": "9734fb0f-10f8-4ee2-b893-8f8d57fcb6f7"
      },
      "execution_count": 21,
      "outputs": [
        {
          "output_type": "execute_result",
          "data": {
            "text/plain": [
              "array(['BRCA', 'COAD', 'KIRC', 'LUAD', 'PRAD'], dtype=object)"
            ]
          },
          "metadata": {},
          "execution_count": 21
        }
      ]
    },
    {
      "cell_type": "code",
      "source": [
        "classes"
      ],
      "metadata": {
        "colab": {
          "base_uri": "https://localhost:8080/"
        },
        "id": "PjpHy5X08BYZ",
        "outputId": "9ef27e87-e882-4dd2-d62c-da343836871b"
      },
      "execution_count": 22,
      "outputs": [
        {
          "output_type": "execute_result",
          "data": {
            "text/plain": [
              "array([0, 1, 2, 3, 4])"
            ]
          },
          "metadata": {},
          "execution_count": 22
        }
      ]
    },
    {
      "cell_type": "markdown",
      "source": [
        "## Split data into training and testing"
      ],
      "metadata": {
        "id": "F-bZCha58bO-"
      }
    },
    {
      "cell_type": "code",
      "source": [
        "X_train, X_test, y_train, y_test = train_test_split(X, y_encoded, test_size = 0.2, random_state = 0)"
      ],
      "metadata": {
        "id": "XhUHBVhJ8a6d"
      },
      "execution_count": 23,
      "outputs": []
    },
    {
      "cell_type": "code",
      "source": [
        "X_train"
      ],
      "metadata": {
        "colab": {
          "base_uri": "https://localhost:8080/",
          "height": 444
        },
        "id": "TBeHKtRC8lQ2",
        "outputId": "b94a9022-0370-44f5-c092-38d3f910c471"
      },
      "execution_count": 29,
      "outputs": [
        {
          "output_type": "execute_result",
          "data": {
            "text/plain": [
              "       gene_1    gene_2  gene_3    gene_4  gene_5  gene_6   gene_7  gene_8  \\\n",
              "364  0.000000  0.748375     0.0  2.686904     0.0     0.0  0.00000     0.0   \n",
              "458  0.000000  0.000000     0.0  3.571932     0.0     0.0  0.00000     0.0   \n",
              "76   0.000000  0.000000     0.0  3.390819     0.0     0.0  0.00000     0.0   \n",
              "64   0.000000  0.000000     0.0  2.179861     0.0     0.0  0.00000     0.0   \n",
              "638  0.000000  0.000000     0.0  1.520196     0.0     0.0  0.00000     0.0   \n",
              "..        ...       ...     ...       ...     ...     ...      ...     ...   \n",
              "763  0.000000  0.000000     0.0  2.372562     0.0     0.0  0.00000     0.0   \n",
              "192  0.000000  0.000000     0.0  2.126180     0.0     0.0  0.00000     0.0   \n",
              "629  0.000000  0.000000     0.0  1.950991     0.0     0.0  0.00000     0.0   \n",
              "559  0.664119  0.000000     0.0  3.399978     0.0     0.0  0.00000     0.0   \n",
              "684  0.000000  0.000000     0.0  1.170951     0.0     0.0  0.70115     0.0   \n",
              "\n",
              "       gene_9   gene_10  ...  gene_7991  gene_7992  gene_7993  gene_7994  \\\n",
              "364  1.238665  1.238665  ...   7.072845  11.797240   8.223036   2.344658   \n",
              "458  1.845350  4.094135  ...   5.585648  11.954880   8.427778   5.051272   \n",
              "76   1.066881  2.988103  ...   7.377158  11.970217   8.023056   2.522181   \n",
              "64   2.571313  2.482952  ...   5.496283  11.068946   9.549954   6.439708   \n",
              "638  0.000000  0.000000  ...   8.735187  13.437609   6.334738   3.454729   \n",
              "..        ...       ...  ...        ...        ...        ...        ...   \n",
              "763  0.762476  0.000000  ...   5.841870  11.478926   8.874539   6.425688   \n",
              "192  0.506602  2.693565  ...   6.427217  11.879396   8.539376   1.177663   \n",
              "629  0.000000  2.405856  ...   7.880092  11.356804   7.404273   7.437461   \n",
              "559  1.086920  3.237518  ...   6.795507  11.964727   7.581622   6.853883   \n",
              "684  1.170951  3.884324  ...   8.196892  11.771485   8.472459   5.244933   \n",
              "\n",
              "     gene_7995  gene_7996  gene_7997  gene_7998  gene_7999  gene_8000  \n",
              "364   6.831181  11.594577   7.980517  10.639684   7.590467   3.083894  \n",
              "458   6.667069  11.980147   7.869649   9.974687   3.440261   3.440261  \n",
              "76    7.409204  11.309397   8.715423   9.893855   6.652988   0.448901  \n",
              "64    7.119616  11.669018   7.911452  10.428119   6.373664   4.275126  \n",
              "638   5.374327  11.681326   6.653087  10.490179   1.803640   0.698485  \n",
              "..         ...        ...        ...        ...        ...        ...  \n",
              "763   6.762880  11.724198   6.657341  10.045009   6.218673   0.000000  \n",
              "192   5.686047  11.826735   8.534474  10.781999   6.840325   0.880803  \n",
              "629   6.785027  11.623945   7.136837  10.010962   6.252510   1.053042  \n",
              "559   6.601717  12.002175   7.538655   9.408268   3.740550   2.302992  \n",
              "684   6.632963  12.136831   7.969743  10.193784   3.688169   2.859532  \n",
              "\n",
              "[640 rows x 8000 columns]"
            ],
            "text/html": [
              "\n",
              "  <div id=\"df-6cb19d72-66d0-4d36-bb9a-0bd22bf6d04b\" class=\"colab-df-container\">\n",
              "    <div>\n",
              "<style scoped>\n",
              "    .dataframe tbody tr th:only-of-type {\n",
              "        vertical-align: middle;\n",
              "    }\n",
              "\n",
              "    .dataframe tbody tr th {\n",
              "        vertical-align: top;\n",
              "    }\n",
              "\n",
              "    .dataframe thead th {\n",
              "        text-align: right;\n",
              "    }\n",
              "</style>\n",
              "<table border=\"1\" class=\"dataframe\">\n",
              "  <thead>\n",
              "    <tr style=\"text-align: right;\">\n",
              "      <th></th>\n",
              "      <th>gene_1</th>\n",
              "      <th>gene_2</th>\n",
              "      <th>gene_3</th>\n",
              "      <th>gene_4</th>\n",
              "      <th>gene_5</th>\n",
              "      <th>gene_6</th>\n",
              "      <th>gene_7</th>\n",
              "      <th>gene_8</th>\n",
              "      <th>gene_9</th>\n",
              "      <th>gene_10</th>\n",
              "      <th>...</th>\n",
              "      <th>gene_7991</th>\n",
              "      <th>gene_7992</th>\n",
              "      <th>gene_7993</th>\n",
              "      <th>gene_7994</th>\n",
              "      <th>gene_7995</th>\n",
              "      <th>gene_7996</th>\n",
              "      <th>gene_7997</th>\n",
              "      <th>gene_7998</th>\n",
              "      <th>gene_7999</th>\n",
              "      <th>gene_8000</th>\n",
              "    </tr>\n",
              "  </thead>\n",
              "  <tbody>\n",
              "    <tr>\n",
              "      <th>364</th>\n",
              "      <td>0.000000</td>\n",
              "      <td>0.748375</td>\n",
              "      <td>0.0</td>\n",
              "      <td>2.686904</td>\n",
              "      <td>0.0</td>\n",
              "      <td>0.0</td>\n",
              "      <td>0.00000</td>\n",
              "      <td>0.0</td>\n",
              "      <td>1.238665</td>\n",
              "      <td>1.238665</td>\n",
              "      <td>...</td>\n",
              "      <td>7.072845</td>\n",
              "      <td>11.797240</td>\n",
              "      <td>8.223036</td>\n",
              "      <td>2.344658</td>\n",
              "      <td>6.831181</td>\n",
              "      <td>11.594577</td>\n",
              "      <td>7.980517</td>\n",
              "      <td>10.639684</td>\n",
              "      <td>7.590467</td>\n",
              "      <td>3.083894</td>\n",
              "    </tr>\n",
              "    <tr>\n",
              "      <th>458</th>\n",
              "      <td>0.000000</td>\n",
              "      <td>0.000000</td>\n",
              "      <td>0.0</td>\n",
              "      <td>3.571932</td>\n",
              "      <td>0.0</td>\n",
              "      <td>0.0</td>\n",
              "      <td>0.00000</td>\n",
              "      <td>0.0</td>\n",
              "      <td>1.845350</td>\n",
              "      <td>4.094135</td>\n",
              "      <td>...</td>\n",
              "      <td>5.585648</td>\n",
              "      <td>11.954880</td>\n",
              "      <td>8.427778</td>\n",
              "      <td>5.051272</td>\n",
              "      <td>6.667069</td>\n",
              "      <td>11.980147</td>\n",
              "      <td>7.869649</td>\n",
              "      <td>9.974687</td>\n",
              "      <td>3.440261</td>\n",
              "      <td>3.440261</td>\n",
              "    </tr>\n",
              "    <tr>\n",
              "      <th>76</th>\n",
              "      <td>0.000000</td>\n",
              "      <td>0.000000</td>\n",
              "      <td>0.0</td>\n",
              "      <td>3.390819</td>\n",
              "      <td>0.0</td>\n",
              "      <td>0.0</td>\n",
              "      <td>0.00000</td>\n",
              "      <td>0.0</td>\n",
              "      <td>1.066881</td>\n",
              "      <td>2.988103</td>\n",
              "      <td>...</td>\n",
              "      <td>7.377158</td>\n",
              "      <td>11.970217</td>\n",
              "      <td>8.023056</td>\n",
              "      <td>2.522181</td>\n",
              "      <td>7.409204</td>\n",
              "      <td>11.309397</td>\n",
              "      <td>8.715423</td>\n",
              "      <td>9.893855</td>\n",
              "      <td>6.652988</td>\n",
              "      <td>0.448901</td>\n",
              "    </tr>\n",
              "    <tr>\n",
              "      <th>64</th>\n",
              "      <td>0.000000</td>\n",
              "      <td>0.000000</td>\n",
              "      <td>0.0</td>\n",
              "      <td>2.179861</td>\n",
              "      <td>0.0</td>\n",
              "      <td>0.0</td>\n",
              "      <td>0.00000</td>\n",
              "      <td>0.0</td>\n",
              "      <td>2.571313</td>\n",
              "      <td>2.482952</td>\n",
              "      <td>...</td>\n",
              "      <td>5.496283</td>\n",
              "      <td>11.068946</td>\n",
              "      <td>9.549954</td>\n",
              "      <td>6.439708</td>\n",
              "      <td>7.119616</td>\n",
              "      <td>11.669018</td>\n",
              "      <td>7.911452</td>\n",
              "      <td>10.428119</td>\n",
              "      <td>6.373664</td>\n",
              "      <td>4.275126</td>\n",
              "    </tr>\n",
              "    <tr>\n",
              "      <th>638</th>\n",
              "      <td>0.000000</td>\n",
              "      <td>0.000000</td>\n",
              "      <td>0.0</td>\n",
              "      <td>1.520196</td>\n",
              "      <td>0.0</td>\n",
              "      <td>0.0</td>\n",
              "      <td>0.00000</td>\n",
              "      <td>0.0</td>\n",
              "      <td>0.000000</td>\n",
              "      <td>0.000000</td>\n",
              "      <td>...</td>\n",
              "      <td>8.735187</td>\n",
              "      <td>13.437609</td>\n",
              "      <td>6.334738</td>\n",
              "      <td>3.454729</td>\n",
              "      <td>5.374327</td>\n",
              "      <td>11.681326</td>\n",
              "      <td>6.653087</td>\n",
              "      <td>10.490179</td>\n",
              "      <td>1.803640</td>\n",
              "      <td>0.698485</td>\n",
              "    </tr>\n",
              "    <tr>\n",
              "      <th>...</th>\n",
              "      <td>...</td>\n",
              "      <td>...</td>\n",
              "      <td>...</td>\n",
              "      <td>...</td>\n",
              "      <td>...</td>\n",
              "      <td>...</td>\n",
              "      <td>...</td>\n",
              "      <td>...</td>\n",
              "      <td>...</td>\n",
              "      <td>...</td>\n",
              "      <td>...</td>\n",
              "      <td>...</td>\n",
              "      <td>...</td>\n",
              "      <td>...</td>\n",
              "      <td>...</td>\n",
              "      <td>...</td>\n",
              "      <td>...</td>\n",
              "      <td>...</td>\n",
              "      <td>...</td>\n",
              "      <td>...</td>\n",
              "      <td>...</td>\n",
              "    </tr>\n",
              "    <tr>\n",
              "      <th>763</th>\n",
              "      <td>0.000000</td>\n",
              "      <td>0.000000</td>\n",
              "      <td>0.0</td>\n",
              "      <td>2.372562</td>\n",
              "      <td>0.0</td>\n",
              "      <td>0.0</td>\n",
              "      <td>0.00000</td>\n",
              "      <td>0.0</td>\n",
              "      <td>0.762476</td>\n",
              "      <td>0.000000</td>\n",
              "      <td>...</td>\n",
              "      <td>5.841870</td>\n",
              "      <td>11.478926</td>\n",
              "      <td>8.874539</td>\n",
              "      <td>6.425688</td>\n",
              "      <td>6.762880</td>\n",
              "      <td>11.724198</td>\n",
              "      <td>6.657341</td>\n",
              "      <td>10.045009</td>\n",
              "      <td>6.218673</td>\n",
              "      <td>0.000000</td>\n",
              "    </tr>\n",
              "    <tr>\n",
              "      <th>192</th>\n",
              "      <td>0.000000</td>\n",
              "      <td>0.000000</td>\n",
              "      <td>0.0</td>\n",
              "      <td>2.126180</td>\n",
              "      <td>0.0</td>\n",
              "      <td>0.0</td>\n",
              "      <td>0.00000</td>\n",
              "      <td>0.0</td>\n",
              "      <td>0.506602</td>\n",
              "      <td>2.693565</td>\n",
              "      <td>...</td>\n",
              "      <td>6.427217</td>\n",
              "      <td>11.879396</td>\n",
              "      <td>8.539376</td>\n",
              "      <td>1.177663</td>\n",
              "      <td>5.686047</td>\n",
              "      <td>11.826735</td>\n",
              "      <td>8.534474</td>\n",
              "      <td>10.781999</td>\n",
              "      <td>6.840325</td>\n",
              "      <td>0.880803</td>\n",
              "    </tr>\n",
              "    <tr>\n",
              "      <th>629</th>\n",
              "      <td>0.000000</td>\n",
              "      <td>0.000000</td>\n",
              "      <td>0.0</td>\n",
              "      <td>1.950991</td>\n",
              "      <td>0.0</td>\n",
              "      <td>0.0</td>\n",
              "      <td>0.00000</td>\n",
              "      <td>0.0</td>\n",
              "      <td>0.000000</td>\n",
              "      <td>2.405856</td>\n",
              "      <td>...</td>\n",
              "      <td>7.880092</td>\n",
              "      <td>11.356804</td>\n",
              "      <td>7.404273</td>\n",
              "      <td>7.437461</td>\n",
              "      <td>6.785027</td>\n",
              "      <td>11.623945</td>\n",
              "      <td>7.136837</td>\n",
              "      <td>10.010962</td>\n",
              "      <td>6.252510</td>\n",
              "      <td>1.053042</td>\n",
              "    </tr>\n",
              "    <tr>\n",
              "      <th>559</th>\n",
              "      <td>0.664119</td>\n",
              "      <td>0.000000</td>\n",
              "      <td>0.0</td>\n",
              "      <td>3.399978</td>\n",
              "      <td>0.0</td>\n",
              "      <td>0.0</td>\n",
              "      <td>0.00000</td>\n",
              "      <td>0.0</td>\n",
              "      <td>1.086920</td>\n",
              "      <td>3.237518</td>\n",
              "      <td>...</td>\n",
              "      <td>6.795507</td>\n",
              "      <td>11.964727</td>\n",
              "      <td>7.581622</td>\n",
              "      <td>6.853883</td>\n",
              "      <td>6.601717</td>\n",
              "      <td>12.002175</td>\n",
              "      <td>7.538655</td>\n",
              "      <td>9.408268</td>\n",
              "      <td>3.740550</td>\n",
              "      <td>2.302992</td>\n",
              "    </tr>\n",
              "    <tr>\n",
              "      <th>684</th>\n",
              "      <td>0.000000</td>\n",
              "      <td>0.000000</td>\n",
              "      <td>0.0</td>\n",
              "      <td>1.170951</td>\n",
              "      <td>0.0</td>\n",
              "      <td>0.0</td>\n",
              "      <td>0.70115</td>\n",
              "      <td>0.0</td>\n",
              "      <td>1.170951</td>\n",
              "      <td>3.884324</td>\n",
              "      <td>...</td>\n",
              "      <td>8.196892</td>\n",
              "      <td>11.771485</td>\n",
              "      <td>8.472459</td>\n",
              "      <td>5.244933</td>\n",
              "      <td>6.632963</td>\n",
              "      <td>12.136831</td>\n",
              "      <td>7.969743</td>\n",
              "      <td>10.193784</td>\n",
              "      <td>3.688169</td>\n",
              "      <td>2.859532</td>\n",
              "    </tr>\n",
              "  </tbody>\n",
              "</table>\n",
              "<p>640 rows × 8000 columns</p>\n",
              "</div>\n",
              "    <div class=\"colab-df-buttons\">\n",
              "\n",
              "  <div class=\"colab-df-container\">\n",
              "    <button class=\"colab-df-convert\" onclick=\"convertToInteractive('df-6cb19d72-66d0-4d36-bb9a-0bd22bf6d04b')\"\n",
              "            title=\"Convert this dataframe to an interactive table.\"\n",
              "            style=\"display:none;\">\n",
              "\n",
              "  <svg xmlns=\"http://www.w3.org/2000/svg\" height=\"24px\" viewBox=\"0 -960 960 960\">\n",
              "    <path d=\"M120-120v-720h720v720H120Zm60-500h600v-160H180v160Zm220 220h160v-160H400v160Zm0 220h160v-160H400v160ZM180-400h160v-160H180v160Zm440 0h160v-160H620v160ZM180-180h160v-160H180v160Zm440 0h160v-160H620v160Z\"/>\n",
              "  </svg>\n",
              "    </button>\n",
              "\n",
              "  <style>\n",
              "    .colab-df-container {\n",
              "      display:flex;\n",
              "      gap: 12px;\n",
              "    }\n",
              "\n",
              "    .colab-df-convert {\n",
              "      background-color: #E8F0FE;\n",
              "      border: none;\n",
              "      border-radius: 50%;\n",
              "      cursor: pointer;\n",
              "      display: none;\n",
              "      fill: #1967D2;\n",
              "      height: 32px;\n",
              "      padding: 0 0 0 0;\n",
              "      width: 32px;\n",
              "    }\n",
              "\n",
              "    .colab-df-convert:hover {\n",
              "      background-color: #E2EBFA;\n",
              "      box-shadow: 0px 1px 2px rgba(60, 64, 67, 0.3), 0px 1px 3px 1px rgba(60, 64, 67, 0.15);\n",
              "      fill: #174EA6;\n",
              "    }\n",
              "\n",
              "    .colab-df-buttons div {\n",
              "      margin-bottom: 4px;\n",
              "    }\n",
              "\n",
              "    [theme=dark] .colab-df-convert {\n",
              "      background-color: #3B4455;\n",
              "      fill: #D2E3FC;\n",
              "    }\n",
              "\n",
              "    [theme=dark] .colab-df-convert:hover {\n",
              "      background-color: #434B5C;\n",
              "      box-shadow: 0px 1px 3px 1px rgba(0, 0, 0, 0.15);\n",
              "      filter: drop-shadow(0px 1px 2px rgba(0, 0, 0, 0.3));\n",
              "      fill: #FFFFFF;\n",
              "    }\n",
              "  </style>\n",
              "\n",
              "    <script>\n",
              "      const buttonEl =\n",
              "        document.querySelector('#df-6cb19d72-66d0-4d36-bb9a-0bd22bf6d04b button.colab-df-convert');\n",
              "      buttonEl.style.display =\n",
              "        google.colab.kernel.accessAllowed ? 'block' : 'none';\n",
              "\n",
              "      async function convertToInteractive(key) {\n",
              "        const element = document.querySelector('#df-6cb19d72-66d0-4d36-bb9a-0bd22bf6d04b');\n",
              "        const dataTable =\n",
              "          await google.colab.kernel.invokeFunction('convertToInteractive',\n",
              "                                                    [key], {});\n",
              "        if (!dataTable) return;\n",
              "\n",
              "        const docLinkHtml = 'Like what you see? Visit the ' +\n",
              "          '<a target=\"_blank\" href=https://colab.research.google.com/notebooks/data_table.ipynb>data table notebook</a>'\n",
              "          + ' to learn more about interactive tables.';\n",
              "        element.innerHTML = '';\n",
              "        dataTable['output_type'] = 'display_data';\n",
              "        await google.colab.output.renderOutput(dataTable, element);\n",
              "        const docLink = document.createElement('div');\n",
              "        docLink.innerHTML = docLinkHtml;\n",
              "        element.appendChild(docLink);\n",
              "      }\n",
              "    </script>\n",
              "  </div>\n",
              "\n",
              "\n",
              "<div id=\"df-7e4c0075-8742-4ea3-9eab-3d2d93c5ce72\">\n",
              "  <button class=\"colab-df-quickchart\" onclick=\"quickchart('df-7e4c0075-8742-4ea3-9eab-3d2d93c5ce72')\"\n",
              "            title=\"Suggest charts\"\n",
              "            style=\"display:none;\">\n",
              "\n",
              "<svg xmlns=\"http://www.w3.org/2000/svg\" height=\"24px\"viewBox=\"0 0 24 24\"\n",
              "     width=\"24px\">\n",
              "    <g>\n",
              "        <path d=\"M19 3H5c-1.1 0-2 .9-2 2v14c0 1.1.9 2 2 2h14c1.1 0 2-.9 2-2V5c0-1.1-.9-2-2-2zM9 17H7v-7h2v7zm4 0h-2V7h2v10zm4 0h-2v-4h2v4z\"/>\n",
              "    </g>\n",
              "</svg>\n",
              "  </button>\n",
              "\n",
              "<style>\n",
              "  .colab-df-quickchart {\n",
              "      --bg-color: #E8F0FE;\n",
              "      --fill-color: #1967D2;\n",
              "      --hover-bg-color: #E2EBFA;\n",
              "      --hover-fill-color: #174EA6;\n",
              "      --disabled-fill-color: #AAA;\n",
              "      --disabled-bg-color: #DDD;\n",
              "  }\n",
              "\n",
              "  [theme=dark] .colab-df-quickchart {\n",
              "      --bg-color: #3B4455;\n",
              "      --fill-color: #D2E3FC;\n",
              "      --hover-bg-color: #434B5C;\n",
              "      --hover-fill-color: #FFFFFF;\n",
              "      --disabled-bg-color: #3B4455;\n",
              "      --disabled-fill-color: #666;\n",
              "  }\n",
              "\n",
              "  .colab-df-quickchart {\n",
              "    background-color: var(--bg-color);\n",
              "    border: none;\n",
              "    border-radius: 50%;\n",
              "    cursor: pointer;\n",
              "    display: none;\n",
              "    fill: var(--fill-color);\n",
              "    height: 32px;\n",
              "    padding: 0;\n",
              "    width: 32px;\n",
              "  }\n",
              "\n",
              "  .colab-df-quickchart:hover {\n",
              "    background-color: var(--hover-bg-color);\n",
              "    box-shadow: 0 1px 2px rgba(60, 64, 67, 0.3), 0 1px 3px 1px rgba(60, 64, 67, 0.15);\n",
              "    fill: var(--button-hover-fill-color);\n",
              "  }\n",
              "\n",
              "  .colab-df-quickchart-complete:disabled,\n",
              "  .colab-df-quickchart-complete:disabled:hover {\n",
              "    background-color: var(--disabled-bg-color);\n",
              "    fill: var(--disabled-fill-color);\n",
              "    box-shadow: none;\n",
              "  }\n",
              "\n",
              "  .colab-df-spinner {\n",
              "    border: 2px solid var(--fill-color);\n",
              "    border-color: transparent;\n",
              "    border-bottom-color: var(--fill-color);\n",
              "    animation:\n",
              "      spin 1s steps(1) infinite;\n",
              "  }\n",
              "\n",
              "  @keyframes spin {\n",
              "    0% {\n",
              "      border-color: transparent;\n",
              "      border-bottom-color: var(--fill-color);\n",
              "      border-left-color: var(--fill-color);\n",
              "    }\n",
              "    20% {\n",
              "      border-color: transparent;\n",
              "      border-left-color: var(--fill-color);\n",
              "      border-top-color: var(--fill-color);\n",
              "    }\n",
              "    30% {\n",
              "      border-color: transparent;\n",
              "      border-left-color: var(--fill-color);\n",
              "      border-top-color: var(--fill-color);\n",
              "      border-right-color: var(--fill-color);\n",
              "    }\n",
              "    40% {\n",
              "      border-color: transparent;\n",
              "      border-right-color: var(--fill-color);\n",
              "      border-top-color: var(--fill-color);\n",
              "    }\n",
              "    60% {\n",
              "      border-color: transparent;\n",
              "      border-right-color: var(--fill-color);\n",
              "    }\n",
              "    80% {\n",
              "      border-color: transparent;\n",
              "      border-right-color: var(--fill-color);\n",
              "      border-bottom-color: var(--fill-color);\n",
              "    }\n",
              "    90% {\n",
              "      border-color: transparent;\n",
              "      border-bottom-color: var(--fill-color);\n",
              "    }\n",
              "  }\n",
              "</style>\n",
              "\n",
              "  <script>\n",
              "    async function quickchart(key) {\n",
              "      const quickchartButtonEl =\n",
              "        document.querySelector('#' + key + ' button');\n",
              "      quickchartButtonEl.disabled = true;  // To prevent multiple clicks.\n",
              "      quickchartButtonEl.classList.add('colab-df-spinner');\n",
              "      try {\n",
              "        const charts = await google.colab.kernel.invokeFunction(\n",
              "            'suggestCharts', [key], {});\n",
              "      } catch (error) {\n",
              "        console.error('Error during call to suggestCharts:', error);\n",
              "      }\n",
              "      quickchartButtonEl.classList.remove('colab-df-spinner');\n",
              "      quickchartButtonEl.classList.add('colab-df-quickchart-complete');\n",
              "    }\n",
              "    (() => {\n",
              "      let quickchartButtonEl =\n",
              "        document.querySelector('#df-7e4c0075-8742-4ea3-9eab-3d2d93c5ce72 button');\n",
              "      quickchartButtonEl.style.display =\n",
              "        google.colab.kernel.accessAllowed ? 'block' : 'none';\n",
              "    })();\n",
              "  </script>\n",
              "</div>\n",
              "    </div>\n",
              "  </div>\n"
            ]
          },
          "metadata": {},
          "execution_count": 29
        }
      ]
    },
    {
      "cell_type": "markdown",
      "source": [
        "## Data normalization"
      ],
      "metadata": {
        "id": "hyg8EC5a81nA"
      }
    },
    {
      "cell_type": "code",
      "source": [
        "min_max_scaler=MinMaxScaler()\n",
        "X_train_norm=min_max_scaler.fit_transform(X_train)\n",
        "X_test_norm=min_max_scaler.fit_transform(X_test)"
      ],
      "metadata": {
        "id": "QiT0c0Zq8q2Z"
      },
      "execution_count": 25,
      "outputs": []
    },
    {
      "cell_type": "code",
      "source": [
        "X_train_norm"
      ],
      "metadata": {
        "colab": {
          "base_uri": "https://localhost:8080/"
        },
        "id": "C1y0G53f87qO",
        "outputId": "5ec641d4-b49a-444d-ff4d-ed1f2ded6bfb"
      },
      "execution_count": 28,
      "outputs": [
        {
          "output_type": "execute_result",
          "data": {
            "text/plain": [
              "array([[0.        , 0.11382128, 0.        , ..., 0.42789105, 0.64577898,\n",
              "        0.31667146],\n",
              "       [0.        , 0.        , 0.        , ..., 0.26884055, 0.24748025,\n",
              "        0.35326523],\n",
              "       [0.        , 0.        , 0.        , ..., 0.24950761, 0.55580834,\n",
              "        0.04609566],\n",
              "       ...,\n",
              "       [0.        , 0.        , 0.        , ..., 0.27751651, 0.51737413,\n",
              "        0.10813221],\n",
              "       [0.44802291, 0.        , 0.        , ..., 0.13336752, 0.2762992 ,\n",
              "        0.23648403],\n",
              "       [0.        , 0.        , 0.        , ..., 0.321243  , 0.27127218,\n",
              "        0.29363274]])"
            ]
          },
          "metadata": {},
          "execution_count": 28
        }
      ]
    },
    {
      "cell_type": "markdown",
      "source": [
        "## Feature selection"
      ],
      "metadata": {
        "id": "tKB-xMaI_teW"
      }
    },
    {
      "cell_type": "code",
      "source": [
        "MI=mutual_info_classif(X_train_norm,y_train)"
      ],
      "metadata": {
        "id": "Odftq27D_sXl"
      },
      "execution_count": 42,
      "outputs": []
    },
    {
      "cell_type": "code",
      "source": [
        "n_features=300\n",
        "selected_scores_indices=np.argsort(MI)[::-1][0:n_features]"
      ],
      "metadata": {
        "id": "Mh-XVDv8ALLP"
      },
      "execution_count": 43,
      "outputs": []
    },
    {
      "cell_type": "code",
      "source": [
        "X_train_selected=X_train_norm[:,selected_scores_indices]\n",
        "X_test_selected=X_test_norm[:,selected_scores_indices]"
      ],
      "metadata": {
        "id": "QsEHTSiVANxs"
      },
      "execution_count": 44,
      "outputs": []
    },
    {
      "cell_type": "code",
      "source": [
        "X_train_selected.shape"
      ],
      "metadata": {
        "colab": {
          "base_uri": "https://localhost:8080/"
        },
        "id": "Y9ETV8N7AQL3",
        "outputId": "6fe9af3a-d9fe-4802-a8db-6c165b2dd283"
      },
      "execution_count": 45,
      "outputs": [
        {
          "output_type": "execute_result",
          "data": {
            "text/plain": [
              "(640, 300)"
            ]
          },
          "metadata": {},
          "execution_count": 45
        }
      ]
    },
    {
      "cell_type": "markdown",
      "source": [
        "## Train the model"
      ],
      "metadata": {
        "id": "Z3zChNinJymu"
      }
    },
    {
      "cell_type": "code",
      "source": [
        "RF=OneVsRestClassifier(RandomForestClassifier(max_features=0.2))\n",
        "RF.fit(X_train_selected,y_train)\n",
        "y_pred =RF.predict(X_test_selected)\n",
        "pred_prob = RF.predict_proba(X_test_selected)"
      ],
      "metadata": {
        "id": "lTEFupd0Jxj0"
      },
      "execution_count": 46,
      "outputs": []
    },
    {
      "cell_type": "markdown",
      "source": [
        "## Model Evaluation"
      ],
      "metadata": {
        "id": "NU2rq5G3Lb7U"
      }
    },
    {
      "cell_type": "code",
      "source": [
        "#accuracy\n",
        "accuracy=np.round(balanced_accuracy_score(y_test,y_pred),4)\n",
        "print('accuracy:%0.4f'%accuracy)\n",
        "\n",
        "#precision\n",
        "precision=np.round(precision_score(y_test,y_pred,average = 'weighted'),4)\n",
        "print('precision:%0.4f'%precision)\n",
        "\n",
        "#recall\n",
        "recall=np.round(recall_score(y_test,y_pred,average = 'weighted'),4)\n",
        "print('recall:%0.4f'%recall)\n",
        "\n",
        "#f1score\n",
        "f1score=np.round(f1_score(y_test,y_pred,average = 'weighted'),4)\n",
        "print('f1score:%0.4f'%f1score)\n",
        "\n",
        "\n",
        "report=classification_report(y_test,y_pred, target_names=labels)\n",
        "print('\\n')\n",
        "print('classification report\\n\\n')\n",
        "print(report)"
      ],
      "metadata": {
        "colab": {
          "base_uri": "https://localhost:8080/"
        },
        "id": "gX-YxrDvLbhn",
        "outputId": "6625a5ff-a8f7-40fd-b9f4-5bc03f8d2db8"
      },
      "execution_count": 47,
      "outputs": [
        {
          "output_type": "stream",
          "name": "stdout",
          "text": [
            "accuracy:0.9498\n",
            "precision:0.9597\n",
            "recall:0.9565\n",
            "f1score:0.9558\n",
            "\n",
            "\n",
            "classification report\n",
            "\n",
            "\n",
            "              precision    recall  f1-score   support\n",
            "\n",
            "        BRCA       0.92      1.00      0.96        65\n",
            "        COAD       1.00      1.00      1.00        12\n",
            "        KIRC       1.00      0.97      0.98        31\n",
            "        LUAD       0.96      0.96      0.96        25\n",
            "        PRAD       1.00      0.82      0.90        28\n",
            "\n",
            "    accuracy                           0.96       161\n",
            "   macro avg       0.98      0.95      0.96       161\n",
            "weighted avg       0.96      0.96      0.96       161\n",
            "\n"
          ]
        }
      ]
    },
    {
      "cell_type": "code",
      "source": [
        "#roc curves will be generated for each class\n",
        "#we will therefore have to binarize the y_test labels\n",
        "#this is done because the probabilities(pred_prob) are calculated for each each class\n",
        "#we therefore need to put the y_test label in the same format as the pred_prob\n",
        "y_test_binarized=label_binarize(y_test,classes=classes)\n",
        "\n",
        "# roc curve for classes\n",
        "fpr = {}\n",
        "tpr = {}\n",
        "thresh ={}\n",
        "roc_auc = dict()\n",
        "\n",
        "n_class = classes.shape[0]\n",
        "\n",
        "for i in range(n_class):\n",
        "    fpr[i], tpr[i], thresh[i] = roc_curve(y_test_binarized[:,i], pred_prob[:,i])\n",
        "    roc_auc[i] = auc(fpr[i], tpr[i])\n",
        "\n",
        "    # plotting\n",
        "    plt.plot(fpr[i], tpr[i], linestyle='--',\n",
        "             label='%s vs Rest (AUC=%0.2f)'%(labels[i],roc_auc[i]))\n",
        "\n",
        "plt.plot([0,1],[0,1],'b--')\n",
        "plt.xlim([0,1])\n",
        "plt.ylim([0,1.05])\n",
        "plt.title('Multiclass ROC curve')\n",
        "plt.xlabel('False Positive Rate')\n",
        "plt.ylabel('True Positive rate')\n",
        "plt.legend(loc='lower right')\n",
        "plt.show()"
      ],
      "metadata": {
        "colab": {
          "base_uri": "https://localhost:8080/",
          "height": 472
        },
        "id": "70cvQgzcLpyy",
        "outputId": "53f482b3-8676-4cd3-81b9-12f05cec1669"
      },
      "execution_count": 48,
      "outputs": [
        {
          "output_type": "display_data",
          "data": {
            "text/plain": [
              "<Figure size 640x480 with 1 Axes>"
            ],
            "image/png": "[encoded data removed]"
          },
          "metadata": {}
        }
      ]
    }
  ]
}